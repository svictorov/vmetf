{
 "cells": [
  {
   "cell_type": "code",
   "execution_count": 1,
   "metadata": {},
   "outputs": [],
   "source": [
    "import matplotlib.pyplot as plt\n",
    "import numpy as np\n",
    "from scipy.stats import bernoulli\n",
    "from tqdm.notebook import tnrange"
   ]
  },
  {
   "cell_type": "markdown",
   "metadata": {},
   "source": [
    "## Расчет прохождения нейтронов сквозь пластинку методом Монте-Карло"
   ]
  },
  {
   "cell_type": "markdown",
   "metadata": {},
   "source": [
    "Отметим, что во время движения нас волнует только 2 параметра - координата $z$ (нужно понимать, когда частица вылетает из пластинки) и угол $\\theta$ между осью $z$ и направлением движения (он нужен для вычисления z и для вычисления нового угла $\\theta$ в случае анизотропного рассеяния)."
   ]
  },
  {
   "cell_type": "code",
   "execution_count": 2,
   "metadata": {},
   "outputs": [],
   "source": [
    "def distance_to_collision():\n",
    "    return -Lambda*np.log(1 - np.random.random())\n",
    "\n",
    "\n",
    "def get_isotropic_direction(*args):\n",
    "    # Возвращает угол teta между осью z и новым направлением движения из изотропного распределения методом обратной функции\n",
    "    # np.random.random() - равномерная случайная величина на [0, 1)\n",
    "    return np.arccos(1 - 2*np.random.random())\n",
    "\n",
    "\n",
    "def zero_direction(*args):\n",
    "    # Возвращает нулевой угол teta - для случая прямолинейного движения\n",
    "    return 0\n",
    "\n",
    "\n",
    "def prob_density(teta):\n",
    "    # Плотность вероятности teta для анизотропного случая\n",
    "    # Интеграл от 0 до pi нормирован на 1, максимум функции 1/sqrt(3)\n",
    "    return np.cos(teta/2)*np.sin(teta)*3/4\n",
    "\n",
    "\n",
    "def get_nu():\n",
    "    # Возвращает угол nu (полярный угол между старым и новым направлением движения) из распределения выше методом Неймана\n",
    "    M = 1/np.sqrt(3)\n",
    "    while True:\n",
    "        nu = np.random.random()*np.pi\n",
    "        check = np.random.random()*M\n",
    "        if prob_density(nu) > check:\n",
    "            return nu\n",
    "\n",
    "\n",
    "def non_isotropic_direction(teta):\n",
    "    # Возвращает новый угол teta (между осью z и направлением движения) после рассеяния\n",
    "    nu = get_nu()\n",
    "    phi = np.random.random()*2*np.pi\n",
    "    \n",
    "    return np.arccos(np.cos(teta)*np.cos(nu) - np.sin(teta)*np.cos(phi)*np.sin(nu))\n",
    "\n",
    "\n",
    "def is_absorbed():\n",
    "    # Возвращает True, если частица поглотилась (вероятность этого -  p), иначе - False\n",
    "    if bernoulli.rvs(p) == 1:\n",
    "        return True\n",
    "    else:\n",
    "        return False\n",
    "\n",
    "    \n",
    "def is_outside(z):\n",
    "    # Возвращает True, если частица все еще внутри образца\n",
    "    if z < 0 or z > H:\n",
    "        return True\n",
    "    else:\n",
    "        return False\n",
    "\n",
    "    \n",
    "def single_experiment(get_direction=get_isotropic_direction):\n",
    "    # Симулирует одиночный эксперимент\n",
    "    # Возвращает 0 - поглощение, 1 - отражение, 2 - прохождение\n",
    "    z = 0\n",
    "    teta = 0\n",
    "    \n",
    "    while True:\n",
    "        z += distance_to_collision()*np.cos(teta)\n",
    "        \n",
    "        if is_outside(z):\n",
    "            return 1 if teta > np.pi/2 else 2\n",
    "        \n",
    "        elif is_absorbed(): \n",
    "            return 0\n",
    "        \n",
    "        else:\n",
    "            teta = get_direction(teta)\n",
    "            \n",
    "    \n",
    "def multiple_experiments(N, get_direction=get_isotropic_direction):\n",
    "    # Симулирует N экспериментов\n",
    "    # Возвращает кортеж (p_absorbtion, p_reflection, p_passing)\n",
    "    cnt_abs = 0\n",
    "    cnt_ref = 0\n",
    "    \n",
    "    for i in tnrange(N):\n",
    "        result = single_experiment(get_direction=get_direction)\n",
    "        if result == 0:\n",
    "            cnt_abs += 1\n",
    "        elif result == 1:\n",
    "            cnt_ref += 1\n",
    "        \n",
    "    return (cnt_abs/N, cnt_ref/N, (N - cnt_abs - cnt_ref)/N)"
   ]
  },
  {
   "cell_type": "markdown",
   "metadata": {},
   "source": [
    "Протестируем генерацию анизотропного распределения методом Неймана."
   ]
  },
  {
   "cell_type": "code",
   "execution_count": 3,
   "metadata": {},
   "outputs": [
    {
     "data": {
      "application/vnd.jupyter.widget-view+json": {
       "model_id": "4b22d3afd1584041ac02285e39ec3903",
       "version_major": 2,
       "version_minor": 0
      },
      "text/plain": [
       "HBox(children=(IntProgress(value=0, max=100000), HTML(value='')))"
      ]
     },
     "metadata": {},
     "output_type": "display_data"
    },
    {
     "name": "stdout",
     "output_type": "stream",
     "text": [
      "\n"
     ]
    },
    {
     "data": {
      "image/png": "[encoded data removed]",
      "text/plain": [
       "<Figure size 432x288 with 1 Axes>"
      ]
     },
     "metadata": {
      "needs_background": "light"
     },
     "output_type": "display_data"
    }
   ],
   "source": [
    "nu_range = [get_nu() for _ in tnrange(100000)]\n",
    "_ = plt.hist(nu_range, rwidth=0.8, color='blue', density=True)\n",
    "\n",
    "x_range = np.linspace(0, np.pi, num=1000)\n",
    "_ = plt.plot(x_range, prob_density(x_range), color='red')\n",
    "\n",
    "_ = plt.title('Теоретическая и сгенерированная методом Неймана плотность анизотропного распределения')"
   ]
  },
  {
   "cell_type": "code",
   "execution_count": 4,
   "metadata": {},
   "outputs": [],
   "source": [
    "p = 0.4 # Вероятность поглощения\n",
    "H = 1\n",
    "Lambda = 0.3\n",
    "N = 5000000"
   ]
  },
  {
   "cell_type": "code",
   "execution_count": 5,
   "metadata": {},
   "outputs": [],
   "source": [
    "def print_results(absorbtion, reflection, passing, title):\n",
    "    print(title)\n",
    "    print('Вероятность поглощения:', absorbtion)\n",
    "    print('Вероятность отражения:', reflection)\n",
    "    print('Вероятность прохождения:', passing)"
   ]
  },
  {
   "cell_type": "code",
   "execution_count": 6,
   "metadata": {},
   "outputs": [
    {
     "data": {
      "application/vnd.jupyter.widget-view+json": {
       "model_id": "7659548febfd476981ac4f1ed35fea82",
       "version_major": 2,
       "version_minor": 0
      },
      "text/plain": [
       "HBox(children=(IntProgress(value=0, max=5000000), HTML(value='')))"
      ]
     },
     "metadata": {},
     "output_type": "display_data"
    },
    {
     "name": "stdout",
     "output_type": "stream",
     "text": [
      "\n",
      "Случай изотропного рассеяния\n",
      "Вероятность поглощения: 0.7758246\n",
      "Вероятность отражения: 0.1547198\n",
      "Вероятность прохождения: 0.0694556\n"
     ]
    }
   ],
   "source": [
    "p_abs_isotropic, p_ref_isotropic, p_pas_isotropic = multiple_experiments(N, get_direction=get_isotropic_direction)\n",
    "print_results(p_abs_isotropic, p_ref_isotropic, p_pas_isotropic, \"Случай изотропного рассеяния\")"
   ]
  },
  {
   "cell_type": "markdown",
   "metadata": {},
   "source": [
    "Заметим, что для изотропного рассеяния, вероятность отражения выше вероятности прохождения, что логично - первое столкновение в среднем происходит на расстоянии $\\lambda = 0.3$ от первого края пластины, а дальше идет процесс случайных блужданий, где шаг в прямом и обратном направлении равновероятны, единственнное отличие - первый край пластины ближе, чем второй."
   ]
  },
  {
   "cell_type": "code",
   "execution_count": 7,
   "metadata": {},
   "outputs": [
    {
     "data": {
      "application/vnd.jupyter.widget-view+json": {
       "model_id": "e4e8bc2030174361b90e4f969f4e890d",
       "version_major": 2,
       "version_minor": 0
      },
      "text/plain": [
       "HBox(children=(IntProgress(value=0, max=5000000), HTML(value='')))"
      ]
     },
     "metadata": {},
     "output_type": "display_data"
    },
    {
     "name": "stdout",
     "output_type": "stream",
     "text": [
      "\n",
      "Случай сильно анизотропного рассеяния\n",
      "Вероятность поглощения: 0.7363904\n",
      "Вероятность отражения: 0.0\n",
      "Вероятность прохождения: 0.2636096\n"
     ]
    }
   ],
   "source": [
    "p_abs_straight, p_ref_straight, p_pas_straight = multiple_experiments(N, get_direction=zero_direction)\n",
    "print_results(p_abs_straight, p_ref_straight, p_pas_straight, \"Случай сильно анизотропного рассеяния\")"
   ]
  },
  {
   "cell_type": "markdown",
   "metadata": {},
   "source": [
    "Характерное отличие сильно анизотропного рассеяния - меньшая вероятность поглощения, т.к. в среднем испытвается меньшее количество столкновений. Частица летит строго прямо, поэтому нет вероятности застрять где-то посередине пластины, колеблясь вперед-назад."
   ]
  },
  {
   "cell_type": "code",
   "execution_count": 8,
   "metadata": {},
   "outputs": [
    {
     "data": {
      "application/vnd.jupyter.widget-view+json": {
       "model_id": "c0c5dab53e6d429f96a477cf73840343",
       "version_major": 2,
       "version_minor": 0
      },
      "text/plain": [
       "HBox(children=(IntProgress(value=0, max=5000000), HTML(value='')))"
      ]
     },
     "metadata": {},
     "output_type": "display_data"
    },
    {
     "name": "stdout",
     "output_type": "stream",
     "text": [
      "\n",
      "Случай анизотропного рассеяния\n",
      "Вероятность поглощения: 0.8015556\n",
      "Вероятность отражения: 0.1167972\n",
      "Вероятность прохождения: 0.0816472\n"
     ]
    }
   ],
   "source": [
    "p_abs_anisotropic, p_ref_anisotropic, p_pas_anisotropic = multiple_experiments(N, get_direction=non_isotropic_direction)\n",
    "print_results(p_abs_anisotropic, p_ref_anisotropic, p_pas_anisotropic, \"Случай анизотропного рассеяния\")"
   ]
  },
  {
   "cell_type": "markdown",
   "metadata": {},
   "source": [
    "В случае анизотропного рассеяния с сечением $ \\sigma(\\theta) = cos(\\frac{\\theta}{2})$, как и ожидалось, вероятность отражения уменьшилась, ведь теперь лишь 14% частиц отражаются назад после однократного рассеяния. Другой вариант вылететь назад - претерпеть многократное рассеяние на небольшие углы, получив суммарный разворот на ~$\\pi$. Но при многократном рассеянии вероятность поглощения сильно вырастает. Таким образом, часть вероятности отражения \"переехала\" в вероятность поглощения, часть - в вероятность прохождения."
   ]
  },
  {
   "cell_type": "code",
   "execution_count": null,
   "metadata": {},
   "outputs": [],
   "source": []
  }
 ],
 "metadata": {
  "kernelspec": {
   "display_name": "Python 3",
   "language": "python",
   "name": "python3"
  },
  "language_info": {
   "codemirror_mode": {
    "name": "ipython",
    "version": 3
   },
   "file_extension": ".py",
   "mimetype": "text/x-python",
   "name": "python",
   "nbconvert_exporter": "python",
   "pygments_lexer": "ipython3",
   "version": "3.7.4"
  }
 },
 "nbformat": 4,
 "nbformat_minor": 2
}
